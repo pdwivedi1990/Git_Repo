{
  "nbformat": 4,
  "nbformat_minor": 0,
  "metadata": {
    "colab": {
      "name": "Deep Learning - Assignment 2.ipynb",
      "provenance": [],
      "collapsed_sections": [],
      "authorship_tag": "ABX9TyNHk0tuZMKcdfwFUZg0P2ZP",
      "include_colab_link": true
    },
    "kernelspec": {
      "name": "python3",
      "display_name": "Python 3"
    }
  },
  "cells": [
    {
      "cell_type": "markdown",
      "metadata": {
        "id": "view-in-github",
        "colab_type": "text"
      },
      "source": [
        "<a href=\"https://colab.research.google.com/github/pdwivedi1990/Git_Repo/blob/master/Deep_Learning_Assignment_2.ipynb\" target=\"_parent\"><img src=\"https://colab.research.google.com/assets/colab-badge.svg\" alt=\"Open In Colab\"/></a>"
      ]
    },
    {
      "cell_type": "code",
      "metadata": {
        "id": "IWM5NB24lf2b",
        "outputId": "16972ead-b3e1-4999-df73-1a01604906f2",
        "colab": {
          "base_uri": "https://localhost:8080/",
          "height": 50
        }
      },
      "source": [
        "from keras.datasets import imdb\n",
        "import numpy as np\n",
        " \n",
        "(train_data, train_labels), (test_data, test_labels) = imdb.load_data(num_words=10000)\n",
        " \n",
        "def vectorize_sequences(sequences, dimension=10000):\n",
        "    # Create an all-zero matrix of shape (len(sequences), dimension)\n",
        "    results = np.zeros((len(sequences), dimension))\n",
        "    for i, sequence in enumerate(sequences):\n",
        "        results[i, sequence] = 1.  # set specific indices of results[i] to 1s\n",
        "    return results\n",
        " \n",
        "# Our vectorized training data\n",
        "x_train = vectorize_sequences(train_data)\n",
        "# Our vectorized test data\n",
        "x_test = vectorize_sequences(test_data)\n",
        "# Our vectorized labels\n",
        "y_train = np.asarray(train_labels).astype('float32')\n",
        "y_test = np.asarray(test_labels).astype('float32')"
      ],
      "execution_count": 1,
      "outputs": [
        {
          "output_type": "stream",
          "text": [
            "Downloading data from https://storage.googleapis.com/tensorflow/tf-keras-datasets/imdb.npz\n",
            "17465344/17464789 [==============================] - 0s 0us/step\n"
          ],
          "name": "stdout"
        }
      ]
    },
    {
      "cell_type": "code",
      "metadata": {
        "id": "Wf5UW-irl2sQ"
      },
      "source": [
        "from keras import models\n",
        "from keras import layers\n",
        "\n",
        "original_model = models.Sequential()\n",
        "original_model.add(layers.Dense(16, activation='relu', input_shape=(10000,)))\n",
        "original_model.add(layers.Dense(16, activation='relu'))\n",
        "original_model.add(layers.Dense(1, activation='sigmoid'))\n",
        "\n",
        "original_model.compile(optimizer='adamax',\n",
        "                       loss='binary_crossentropy',\n",
        "                       metrics=['acc'])"
      ],
      "execution_count": 2,
      "outputs": []
    },
    {
      "cell_type": "code",
      "metadata": {
        "id": "EZrpOXGrl5W_"
      },
      "source": [
        "smaller_model = models.Sequential()\n",
        "smaller_model.add(layers.Dense(4, activation='relu', input_shape=(10000,)))\n",
        "smaller_model.add(layers.Dense(4, activation='relu'))\n",
        "smaller_model.add(layers.Dense(1, activation='sigmoid'))\n",
        "\n",
        "smaller_model.compile(optimizer='adamax',\n",
        "                      loss='binary_crossentropy',\n",
        "                      metrics=['acc'])"
      ],
      "execution_count": 3,
      "outputs": []
    },
    {
      "cell_type": "code",
      "metadata": {
        "id": "sAXvp2wSl8PE",
        "outputId": "32b5e876-f0d6-4546-f32e-c9715886dd9d",
        "colab": {
          "base_uri": "https://localhost:8080/",
          "height": 689
        }
      },
      "source": [
        "original_hist = original_model.fit(x_train, y_train,\n",
        "                                   epochs=20,\n",
        "                                   batch_size=512,\n",
        "                                   validation_data=(x_test, y_test))"
      ],
      "execution_count": 4,
      "outputs": [
        {
          "output_type": "stream",
          "text": [
            "Epoch 1/20\n",
            "49/49 [==============================] - 2s 32ms/step - loss: 0.5882 - acc: 0.7544 - val_loss: 0.4703 - val_acc: 0.8498\n",
            "Epoch 2/20\n",
            "49/49 [==============================] - 1s 25ms/step - loss: 0.3691 - acc: 0.8805 - val_loss: 0.3412 - val_acc: 0.8774\n",
            "Epoch 3/20\n",
            "49/49 [==============================] - 1s 25ms/step - loss: 0.2742 - acc: 0.9067 - val_loss: 0.2990 - val_acc: 0.8852\n",
            "Epoch 4/20\n",
            "49/49 [==============================] - 1s 25ms/step - loss: 0.2297 - acc: 0.9212 - val_loss: 0.2829 - val_acc: 0.8888\n",
            "Epoch 5/20\n",
            "49/49 [==============================] - 1s 25ms/step - loss: 0.2020 - acc: 0.9292 - val_loss: 0.2784 - val_acc: 0.8895\n",
            "Epoch 6/20\n",
            "49/49 [==============================] - 1s 25ms/step - loss: 0.1820 - acc: 0.9370 - val_loss: 0.2798 - val_acc: 0.8880\n",
            "Epoch 7/20\n",
            "49/49 [==============================] - 1s 25ms/step - loss: 0.1661 - acc: 0.9431 - val_loss: 0.2830 - val_acc: 0.8877\n",
            "Epoch 8/20\n",
            "49/49 [==============================] - 1s 24ms/step - loss: 0.1528 - acc: 0.9485 - val_loss: 0.2889 - val_acc: 0.8854\n",
            "Epoch 9/20\n",
            "49/49 [==============================] - 1s 25ms/step - loss: 0.1411 - acc: 0.9537 - val_loss: 0.2957 - val_acc: 0.8845\n",
            "Epoch 10/20\n",
            "49/49 [==============================] - 1s 25ms/step - loss: 0.1306 - acc: 0.9580 - val_loss: 0.3100 - val_acc: 0.8794\n",
            "Epoch 11/20\n",
            "49/49 [==============================] - 1s 25ms/step - loss: 0.1215 - acc: 0.9608 - val_loss: 0.3138 - val_acc: 0.8798\n",
            "Epoch 12/20\n",
            "49/49 [==============================] - 1s 25ms/step - loss: 0.1132 - acc: 0.9643 - val_loss: 0.3250 - val_acc: 0.8790\n",
            "Epoch 13/20\n",
            "49/49 [==============================] - 1s 25ms/step - loss: 0.1051 - acc: 0.9679 - val_loss: 0.3407 - val_acc: 0.8746\n",
            "Epoch 14/20\n",
            "49/49 [==============================] - 1s 25ms/step - loss: 0.0977 - acc: 0.9701 - val_loss: 0.3479 - val_acc: 0.8756\n",
            "Epoch 15/20\n",
            "49/49 [==============================] - 1s 25ms/step - loss: 0.0914 - acc: 0.9730 - val_loss: 0.3611 - val_acc: 0.8738\n",
            "Epoch 16/20\n",
            "49/49 [==============================] - 1s 25ms/step - loss: 0.0846 - acc: 0.9746 - val_loss: 0.3736 - val_acc: 0.8720\n",
            "Epoch 17/20\n",
            "49/49 [==============================] - 1s 25ms/step - loss: 0.0785 - acc: 0.9783 - val_loss: 0.3875 - val_acc: 0.8711\n",
            "Epoch 18/20\n",
            "49/49 [==============================] - 1s 25ms/step - loss: 0.0729 - acc: 0.9802 - val_loss: 0.4000 - val_acc: 0.8702\n",
            "Epoch 19/20\n",
            "49/49 [==============================] - 1s 25ms/step - loss: 0.0674 - acc: 0.9828 - val_loss: 0.4150 - val_acc: 0.8695\n",
            "Epoch 20/20\n",
            "49/49 [==============================] - 1s 25ms/step - loss: 0.0626 - acc: 0.9854 - val_loss: 0.4292 - val_acc: 0.8680\n"
          ],
          "name": "stdout"
        }
      ]
    },
    {
      "cell_type": "code",
      "metadata": {
        "id": "D6O_Fzjvmtdr",
        "outputId": "53a5df84-0a85-4b91-bbc0-ac010e60446d",
        "colab": {
          "base_uri": "https://localhost:8080/",
          "height": 689
        }
      },
      "source": [
        "smaller_model_hist = smaller_model.fit(x_train, y_train,\n",
        "                                       epochs=20,\n",
        "                                       batch_size=512,\n",
        "                                       validation_data=(x_test, y_test))"
      ],
      "execution_count": 5,
      "outputs": [
        {
          "output_type": "stream",
          "text": [
            "Epoch 1/20\n",
            "49/49 [==============================] - 1s 27ms/step - loss: 0.6532 - acc: 0.5735 - val_loss: 0.6114 - val_acc: 0.6388\n",
            "Epoch 2/20\n",
            "49/49 [==============================] - 1s 21ms/step - loss: 0.5717 - acc: 0.7063 - val_loss: 0.5578 - val_acc: 0.7565\n",
            "Epoch 3/20\n",
            "49/49 [==============================] - 1s 21ms/step - loss: 0.5224 - acc: 0.8029 - val_loss: 0.5242 - val_acc: 0.8186\n",
            "Epoch 4/20\n",
            "49/49 [==============================] - 1s 21ms/step - loss: 0.4883 - acc: 0.8496 - val_loss: 0.5007 - val_acc: 0.8362\n",
            "Epoch 5/20\n",
            "49/49 [==============================] - 1s 21ms/step - loss: 0.4616 - acc: 0.8740 - val_loss: 0.4826 - val_acc: 0.8488\n",
            "Epoch 6/20\n",
            "49/49 [==============================] - 1s 21ms/step - loss: 0.4391 - acc: 0.8908 - val_loss: 0.4683 - val_acc: 0.8571\n",
            "Epoch 7/20\n",
            "49/49 [==============================] - 1s 21ms/step - loss: 0.4197 - acc: 0.9027 - val_loss: 0.4570 - val_acc: 0.8613\n",
            "Epoch 8/20\n",
            "49/49 [==============================] - 1s 21ms/step - loss: 0.4022 - acc: 0.9119 - val_loss: 0.4452 - val_acc: 0.8704\n",
            "Epoch 9/20\n",
            "49/49 [==============================] - 1s 22ms/step - loss: 0.3862 - acc: 0.9197 - val_loss: 0.4375 - val_acc: 0.8716\n",
            "Epoch 10/20\n",
            "49/49 [==============================] - 1s 21ms/step - loss: 0.3718 - acc: 0.9258 - val_loss: 0.4314 - val_acc: 0.8713\n",
            "Epoch 11/20\n",
            "49/49 [==============================] - 1s 21ms/step - loss: 0.3584 - acc: 0.9306 - val_loss: 0.4225 - val_acc: 0.8773\n",
            "Epoch 12/20\n",
            "49/49 [==============================] - 1s 22ms/step - loss: 0.3455 - acc: 0.9369 - val_loss: 0.4173 - val_acc: 0.8777\n",
            "Epoch 13/20\n",
            "49/49 [==============================] - 1s 21ms/step - loss: 0.3330 - acc: 0.9415 - val_loss: 0.4121 - val_acc: 0.8787\n",
            "Epoch 14/20\n",
            "49/49 [==============================] - 1s 21ms/step - loss: 0.3213 - acc: 0.9453 - val_loss: 0.4061 - val_acc: 0.8807\n",
            "Epoch 15/20\n",
            "49/49 [==============================] - 1s 21ms/step - loss: 0.3100 - acc: 0.9498 - val_loss: 0.4027 - val_acc: 0.8805\n",
            "Epoch 16/20\n",
            "49/49 [==============================] - 1s 21ms/step - loss: 0.2992 - acc: 0.9536 - val_loss: 0.4017 - val_acc: 0.8793\n",
            "Epoch 17/20\n",
            "49/49 [==============================] - 1s 22ms/step - loss: 0.2887 - acc: 0.9563 - val_loss: 0.3996 - val_acc: 0.8787\n",
            "Epoch 18/20\n",
            "49/49 [==============================] - 1s 22ms/step - loss: 0.2789 - acc: 0.9588 - val_loss: 0.3948 - val_acc: 0.8808\n",
            "Epoch 19/20\n",
            "49/49 [==============================] - 1s 22ms/step - loss: 0.2694 - acc: 0.9608 - val_loss: 0.3949 - val_acc: 0.8795\n",
            "Epoch 20/20\n",
            "49/49 [==============================] - 1s 21ms/step - loss: 0.2599 - acc: 0.9635 - val_loss: 0.3896 - val_acc: 0.8804\n"
          ],
          "name": "stdout"
        }
      ]
    },
    {
      "cell_type": "code",
      "metadata": {
        "id": "Q_MOmWC8mx9t"
      },
      "source": [
        "epochs = range(1, 21)\n",
        "original_val_loss = original_hist.history['val_loss']\n",
        "smaller_model_val_loss = smaller_model_hist.history['val_loss']"
      ],
      "execution_count": 6,
      "outputs": []
    },
    {
      "cell_type": "code",
      "metadata": {
        "id": "BFM7EN99m8je",
        "outputId": "bc4996d0-0fa6-485c-df39-e7b510c5d33b",
        "colab": {
          "base_uri": "https://localhost:8080/",
          "height": 279
        }
      },
      "source": [
        "import matplotlib.pyplot as plt\n",
        "\n",
        "# b+ is for \"blue cross\"\n",
        "plt.plot(epochs, original_val_loss, 'b+', label='Original model')\n",
        "# \"bo\" is for \"blue dot\"\n",
        "plt.plot(epochs, smaller_model_val_loss, 'bo', label='Smaller model')\n",
        "plt.xlabel('Epochs')\n",
        "plt.ylabel('Validation loss')\n",
        "#plt.suptitle(\"\")\n",
        "plt.legend()\n",
        "\n",
        "plt.show()"
      ],
      "execution_count": 7,
      "outputs": [
        {
          "output_type": "display_data",
          "data": {
            "image/png": "[encoded data removed]",
            "text/plain": [
              "<Figure size 432x288 with 1 Axes>"
            ]
          },
          "metadata": {
            "tags": [],
            "needs_background": "light"
          }
        }
      ]
    },
    {
      "cell_type": "code",
      "metadata": {
        "id": "N1o-Okhfqxqd"
      },
      "source": [
        "bigger_model = models.Sequential()\n",
        "bigger_model.add(layers.Dense(512, activation='relu', input_shape=(10000,)))\n",
        "bigger_model.add(layers.Dense(512, activation='relu'))\n",
        "bigger_model.add(layers.Dense(1, activation='sigmoid'))\n",
        "\n",
        "bigger_model.compile(optimizer='adamax',\n",
        "                     loss='binary_crossentropy',\n",
        "                     metrics=['acc'])"
      ],
      "execution_count": 8,
      "outputs": []
    },
    {
      "cell_type": "code",
      "metadata": {
        "id": "HRgxrq8oq65K",
        "outputId": "d8c89b9a-b378-45ee-f150-8d7da5eb8ea7",
        "colab": {
          "base_uri": "https://localhost:8080/",
          "height": 689
        }
      },
      "source": [
        "bigger_model_hist = bigger_model.fit(x_train, y_train,\n",
        "                                     epochs=20,\n",
        "                                     batch_size=512,\n",
        "                                     validation_data=(x_test, y_test))"
      ],
      "execution_count": 9,
      "outputs": [
        {
          "output_type": "stream",
          "text": [
            "Epoch 1/20\n",
            "49/49 [==============================] - 23s 467ms/step - loss: 0.3534 - acc: 0.8517 - val_loss: 0.2838 - val_acc: 0.8854\n",
            "Epoch 2/20\n",
            "49/49 [==============================] - 23s 459ms/step - loss: 0.1687 - acc: 0.9386 - val_loss: 0.3020 - val_acc: 0.8820\n",
            "Epoch 3/20\n",
            "49/49 [==============================] - 22s 455ms/step - loss: 0.1050 - acc: 0.9667 - val_loss: 0.3398 - val_acc: 0.8791\n",
            "Epoch 4/20\n",
            "49/49 [==============================] - 23s 459ms/step - loss: 0.0526 - acc: 0.9871 - val_loss: 0.3906 - val_acc: 0.8750\n",
            "Epoch 5/20\n",
            "49/49 [==============================] - 22s 454ms/step - loss: 0.0214 - acc: 0.9968 - val_loss: 0.4434 - val_acc: 0.8742\n",
            "Epoch 6/20\n",
            "49/49 [==============================] - 22s 456ms/step - loss: 0.0087 - acc: 0.9994 - val_loss: 0.4896 - val_acc: 0.8730\n",
            "Epoch 7/20\n",
            "49/49 [==============================] - 22s 458ms/step - loss: 0.0044 - acc: 0.9999 - val_loss: 0.5209 - val_acc: 0.8738\n",
            "Epoch 8/20\n",
            "49/49 [==============================] - 22s 458ms/step - loss: 0.0027 - acc: 1.0000 - val_loss: 0.5464 - val_acc: 0.8739\n",
            "Epoch 9/20\n",
            "49/49 [==============================] - 22s 454ms/step - loss: 0.0018 - acc: 1.0000 - val_loss: 0.5683 - val_acc: 0.8745\n",
            "Epoch 10/20\n",
            "49/49 [==============================] - 22s 452ms/step - loss: 0.0013 - acc: 1.0000 - val_loss: 0.5855 - val_acc: 0.8741\n",
            "Epoch 11/20\n",
            "49/49 [==============================] - 20s 415ms/step - loss: 0.0010 - acc: 1.0000 - val_loss: 0.6019 - val_acc: 0.8737\n",
            "Epoch 12/20\n",
            "49/49 [==============================] - 21s 429ms/step - loss: 8.1446e-04 - acc: 1.0000 - val_loss: 0.6176 - val_acc: 0.8745\n",
            "Epoch 13/20\n",
            "49/49 [==============================] - 21s 432ms/step - loss: 6.5706e-04 - acc: 1.0000 - val_loss: 0.6307 - val_acc: 0.8744\n",
            "Epoch 14/20\n",
            "49/49 [==============================] - 23s 459ms/step - loss: 5.4027e-04 - acc: 1.0000 - val_loss: 0.6437 - val_acc: 0.8743\n",
            "Epoch 15/20\n",
            "49/49 [==============================] - 21s 435ms/step - loss: 4.5073e-04 - acc: 1.0000 - val_loss: 0.6553 - val_acc: 0.8746\n",
            "Epoch 16/20\n",
            "49/49 [==============================] - 22s 447ms/step - loss: 3.8011e-04 - acc: 1.0000 - val_loss: 0.6662 - val_acc: 0.8742\n",
            "Epoch 17/20\n",
            "49/49 [==============================] - 21s 437ms/step - loss: 3.2421e-04 - acc: 1.0000 - val_loss: 0.6767 - val_acc: 0.8740\n",
            "Epoch 18/20\n",
            "49/49 [==============================] - 22s 459ms/step - loss: 2.7910e-04 - acc: 1.0000 - val_loss: 0.6882 - val_acc: 0.8742\n",
            "Epoch 19/20\n",
            "49/49 [==============================] - 22s 454ms/step - loss: 2.4186e-04 - acc: 1.0000 - val_loss: 0.6965 - val_acc: 0.8738\n",
            "Epoch 20/20\n",
            "49/49 [==============================] - 22s 457ms/step - loss: 2.1067e-04 - acc: 1.0000 - val_loss: 0.7059 - val_acc: 0.8740\n"
          ],
          "name": "stdout"
        }
      ]
    },
    {
      "cell_type": "code",
      "metadata": {
        "id": "4YJed9Nfq8bk",
        "outputId": "3f3aafbb-d500-4c4d-9063-c433d0d97052",
        "colab": {
          "base_uri": "https://localhost:8080/",
          "height": 279
        }
      },
      "source": [
        "bigger_model_val_loss = bigger_model_hist.history['val_loss']\n",
        "\n",
        "plt.plot(epochs, original_val_loss, 'b+', label='Original model')\n",
        "plt.plot(epochs, bigger_model_val_loss, 'bo', label='Bigger model')\n",
        "plt.xlabel('Epochs')\n",
        "plt.ylabel('Validation loss')\n",
        "plt.legend()\n",
        "\n",
        "plt.show()"
      ],
      "execution_count": 10,
      "outputs": [
        {
          "output_type": "display_data",
          "data": {
            "image/png": "[encoded data removed]",
            "text/plain": [
              "<Figure size 432x288 with 1 Axes>"
            ]
          },
          "metadata": {
            "tags": [],
            "needs_background": "light"
          }
        }
      ]
    },
    {
      "cell_type": "code",
      "metadata": {
        "id": "E_cWIt6Mq_D1",
        "outputId": "8b385939-92b5-4516-bc6c-31d43f596133",
        "colab": {
          "base_uri": "https://localhost:8080/",
          "height": 279
        }
      },
      "source": [
        "original_train_loss = original_hist.history['loss']\n",
        "bigger_model_train_loss = bigger_model_hist.history['loss']\n",
        "\n",
        "plt.plot(epochs, original_train_loss, 'b+', label='Original model')\n",
        "plt.plot(epochs, bigger_model_train_loss, 'bo', label='Bigger model')\n",
        "plt.xlabel('Epochs')\n",
        "plt.ylabel('Training loss')\n",
        "plt.legend()\n",
        "\n",
        "plt.show()"
      ],
      "execution_count": 11,
      "outputs": [
        {
          "output_type": "display_data",
          "data": {
            "image/png": "[encoded data removed]",
            "text/plain": [
              "<Figure size 432x288 with 1 Axes>"
            ]
          },
          "metadata": {
            "tags": [],
            "needs_background": "light"
          }
        }
      ]
    },
    {
      "cell_type": "code",
      "metadata": {
        "id": "7kZP5X1HxpsR"
      },
      "source": [
        "from keras import regularizers\n",
        "\n",
        "l2_model = models.Sequential()\n",
        "l2_model.add(layers.Dense(16, kernel_regularizer=regularizers.l2(0.001),\n",
        "                          activation='relu', input_shape=(10000,)))\n",
        "l2_model.add(layers.Dense(16, kernel_regularizer=regularizers.l2(0.001),\n",
        "                          activation='relu'))\n",
        "l2_model.add(layers.Dense(1, activation='sigmoid'))"
      ],
      "execution_count": 12,
      "outputs": []
    },
    {
      "cell_type": "code",
      "metadata": {
        "id": "EUqbPCdUzvif"
      },
      "source": [
        "l2_model.compile(optimizer='adamax',\n",
        "                 loss='binary_crossentropy',\n",
        "                 metrics=['acc'])"
      ],
      "execution_count": 13,
      "outputs": []
    },
    {
      "cell_type": "code",
      "metadata": {
        "id": "kyTziBaYz28G",
        "outputId": "5552f650-8d83-48c4-b514-d30592efd433",
        "colab": {
          "base_uri": "https://localhost:8080/",
          "height": 689
        }
      },
      "source": [
        "l2_model_hist = l2_model.fit(x_train, y_train,\n",
        "                             epochs=20,\n",
        "                             batch_size=512,\n",
        "                             validation_data=(x_test, y_test))"
      ],
      "execution_count": 14,
      "outputs": [
        {
          "output_type": "stream",
          "text": [
            "Epoch 1/20\n",
            "49/49 [==============================] - 1s 29ms/step - loss: 0.6065 - acc: 0.7843 - val_loss: 0.4887 - val_acc: 0.8506\n",
            "Epoch 2/20\n",
            "49/49 [==============================] - 1s 25ms/step - loss: 0.4066 - acc: 0.8828 - val_loss: 0.3851 - val_acc: 0.8790\n",
            "Epoch 3/20\n",
            "49/49 [==============================] - 1s 25ms/step - loss: 0.3255 - acc: 0.9045 - val_loss: 0.3461 - val_acc: 0.8843\n",
            "Epoch 4/20\n",
            "49/49 [==============================] - 1s 25ms/step - loss: 0.2846 - acc: 0.9172 - val_loss: 0.3296 - val_acc: 0.8876\n",
            "Epoch 5/20\n",
            "49/49 [==============================] - 1s 25ms/step - loss: 0.2605 - acc: 0.9245 - val_loss: 0.3249 - val_acc: 0.8879\n",
            "Epoch 6/20\n",
            "49/49 [==============================] - 1s 25ms/step - loss: 0.2426 - acc: 0.9324 - val_loss: 0.3208 - val_acc: 0.8884\n",
            "Epoch 7/20\n",
            "49/49 [==============================] - 1s 25ms/step - loss: 0.2294 - acc: 0.9375 - val_loss: 0.3231 - val_acc: 0.8874\n",
            "Epoch 8/20\n",
            "49/49 [==============================] - 1s 25ms/step - loss: 0.2187 - acc: 0.9413 - val_loss: 0.3259 - val_acc: 0.8869\n",
            "Epoch 9/20\n",
            "49/49 [==============================] - 1s 25ms/step - loss: 0.2098 - acc: 0.9450 - val_loss: 0.3308 - val_acc: 0.8856\n",
            "Epoch 10/20\n",
            "49/49 [==============================] - 1s 25ms/step - loss: 0.2015 - acc: 0.9500 - val_loss: 0.3350 - val_acc: 0.8848\n",
            "Epoch 11/20\n",
            "49/49 [==============================] - 1s 25ms/step - loss: 0.1944 - acc: 0.9528 - val_loss: 0.3406 - val_acc: 0.8839\n",
            "Epoch 12/20\n",
            "49/49 [==============================] - 1s 25ms/step - loss: 0.1879 - acc: 0.9556 - val_loss: 0.3463 - val_acc: 0.8826\n",
            "Epoch 13/20\n",
            "49/49 [==============================] - 1s 25ms/step - loss: 0.1821 - acc: 0.9582 - val_loss: 0.3538 - val_acc: 0.8801\n",
            "Epoch 14/20\n",
            "49/49 [==============================] - 1s 25ms/step - loss: 0.1764 - acc: 0.9616 - val_loss: 0.3590 - val_acc: 0.8797\n",
            "Epoch 15/20\n",
            "49/49 [==============================] - 1s 25ms/step - loss: 0.1713 - acc: 0.9634 - val_loss: 0.3663 - val_acc: 0.8788\n",
            "Epoch 16/20\n",
            "49/49 [==============================] - 1s 25ms/step - loss: 0.1665 - acc: 0.9658 - val_loss: 0.3791 - val_acc: 0.8743\n",
            "Epoch 17/20\n",
            "49/49 [==============================] - 1s 25ms/step - loss: 0.1624 - acc: 0.9677 - val_loss: 0.3809 - val_acc: 0.8760\n",
            "Epoch 18/20\n",
            "49/49 [==============================] - 1s 25ms/step - loss: 0.1577 - acc: 0.9691 - val_loss: 0.3897 - val_acc: 0.8746\n",
            "Epoch 19/20\n",
            "49/49 [==============================] - 1s 25ms/step - loss: 0.1534 - acc: 0.9712 - val_loss: 0.3986 - val_acc: 0.8730\n",
            "Epoch 20/20\n",
            "49/49 [==============================] - 1s 25ms/step - loss: 0.1495 - acc: 0.9732 - val_loss: 0.4031 - val_acc: 0.8723\n"
          ],
          "name": "stdout"
        }
      ]
    },
    {
      "cell_type": "code",
      "metadata": {
        "id": "SxfuXU_47My8",
        "outputId": "db61fee4-3063-45ce-de8d-8a966fec80e8",
        "colab": {
          "base_uri": "https://localhost:8080/",
          "height": 279
        }
      },
      "source": [
        "l2_model_val_loss = l2_model_hist.history['val_loss']\n",
        "\n",
        "plt.plot(epochs, original_val_loss, 'b+', label='Original model')\n",
        "plt.plot(epochs, l2_model_val_loss, 'bo', label='L2-regularized model')\n",
        "plt.xlabel('Epochs')\n",
        "plt.ylabel('Validation loss')\n",
        "plt.legend()\n",
        "\n",
        "plt.show()"
      ],
      "execution_count": 15,
      "outputs": [
        {
          "output_type": "display_data",
          "data": {
            "image/png": "[encoded data removed]",
            "text/plain": [
              "<Figure size 432x288 with 1 Axes>"
            ]
          },
          "metadata": {
            "tags": [],
            "needs_background": "light"
          }
        }
      ]
    },
    {
      "cell_type": "code",
      "metadata": {
        "id": "sPgUJLzb0SAa",
        "outputId": "49fdd1b4-0204-49cb-e57d-01c171b9c736",
        "colab": {
          "base_uri": "https://localhost:8080/",
          "height": 34
        }
      },
      "source": [
        "from keras import regularizers\n",
        "\n",
        "# L1 regularization\n",
        "regularizers.l1(0.001)\n",
        "\n",
        "# L1 and L2 regularization at the same time\n",
        "regularizers.l1_l2(l1=0.001, l2=0.001)"
      ],
      "execution_count": 16,
      "outputs": [
        {
          "output_type": "execute_result",
          "data": {
            "text/plain": [
              "<tensorflow.python.keras.regularizers.L1L2 at 0x7f1bc1b4ec50>"
            ]
          },
          "metadata": {
            "tags": []
          },
          "execution_count": 16
        }
      ]
    },
    {
      "cell_type": "code",
      "metadata": {
        "id": "uAHBAsfI0U5W",
        "outputId": "c5eb40a1-445c-44f1-fb78-0d6c5b4cf5ef",
        "colab": {
          "base_uri": "https://localhost:8080/",
          "height": 689
        }
      },
      "source": [
        "from keras import regularizers\n",
        "\n",
        "l12_model = models.Sequential()\n",
        "l12_model.add(layers.Dense(16, kernel_regularizer=regularizers.l1_l2(l1=0.001, l2=0.001),\n",
        "                          activation='relu', input_shape=(10000,)))\n",
        "l12_model.add(layers.Dense(16, kernel_regularizer=regularizers.l1_l2(l1=0.001, l2=0.001),\n",
        "                          activation='relu'))\n",
        "l12_model.add(layers.Dense(1, activation='sigmoid'))\n",
        "l12_model.compile(optimizer='adamax',\n",
        "                 loss='binary_crossentropy',\n",
        "                 metrics=['acc'])\n",
        "\n",
        "l12_model_hist = l12_model.fit(x_train, y_train,\n",
        "                             epochs=20,\n",
        "                             batch_size=512,\n",
        "                             validation_data=(x_test, y_test))\n"
      ],
      "execution_count": 17,
      "outputs": [
        {
          "output_type": "stream",
          "text": [
            "Epoch 1/20\n",
            "49/49 [==============================] - 2s 32ms/step - loss: 1.2318 - acc: 0.7577 - val_loss: 0.6861 - val_acc: 0.8412\n",
            "Epoch 2/20\n",
            "49/49 [==============================] - 1s 26ms/step - loss: 0.6030 - acc: 0.8540 - val_loss: 0.5597 - val_acc: 0.8573\n",
            "Epoch 3/20\n",
            "49/49 [==============================] - 1s 26ms/step - loss: 0.5285 - acc: 0.8654 - val_loss: 0.5186 - val_acc: 0.8624\n",
            "Epoch 4/20\n",
            "49/49 [==============================] - 1s 26ms/step - loss: 0.4967 - acc: 0.8705 - val_loss: 0.4966 - val_acc: 0.8653\n",
            "Epoch 5/20\n",
            "49/49 [==============================] - 1s 25ms/step - loss: 0.4783 - acc: 0.8739 - val_loss: 0.4828 - val_acc: 0.8680\n",
            "Epoch 6/20\n",
            "49/49 [==============================] - 1s 26ms/step - loss: 0.4639 - acc: 0.8765 - val_loss: 0.4747 - val_acc: 0.8696\n",
            "Epoch 7/20\n",
            "49/49 [==============================] - 1s 26ms/step - loss: 0.4530 - acc: 0.8803 - val_loss: 0.4647 - val_acc: 0.8722\n",
            "Epoch 8/20\n",
            "49/49 [==============================] - 1s 26ms/step - loss: 0.4442 - acc: 0.8817 - val_loss: 0.4574 - val_acc: 0.8729\n",
            "Epoch 9/20\n",
            "49/49 [==============================] - 1s 26ms/step - loss: 0.4363 - acc: 0.8842 - val_loss: 0.4511 - val_acc: 0.8750\n",
            "Epoch 10/20\n",
            "49/49 [==============================] - 1s 26ms/step - loss: 0.4299 - acc: 0.8851 - val_loss: 0.4464 - val_acc: 0.8749\n",
            "Epoch 11/20\n",
            "49/49 [==============================] - 1s 26ms/step - loss: 0.4234 - acc: 0.8877 - val_loss: 0.4437 - val_acc: 0.8748\n",
            "Epoch 12/20\n",
            "49/49 [==============================] - 1s 26ms/step - loss: 0.4174 - acc: 0.8890 - val_loss: 0.4387 - val_acc: 0.8764\n",
            "Epoch 13/20\n",
            "49/49 [==============================] - 1s 26ms/step - loss: 0.4130 - acc: 0.8900 - val_loss: 0.4356 - val_acc: 0.8769\n",
            "Epoch 14/20\n",
            "49/49 [==============================] - 1s 26ms/step - loss: 0.4089 - acc: 0.8907 - val_loss: 0.4332 - val_acc: 0.8778\n",
            "Epoch 15/20\n",
            "49/49 [==============================] - 1s 25ms/step - loss: 0.4060 - acc: 0.8917 - val_loss: 0.4295 - val_acc: 0.8793\n",
            "Epoch 16/20\n",
            "49/49 [==============================] - 1s 25ms/step - loss: 0.3992 - acc: 0.8948 - val_loss: 0.4270 - val_acc: 0.8791\n",
            "Epoch 17/20\n",
            "49/49 [==============================] - 1s 25ms/step - loss: 0.3960 - acc: 0.8961 - val_loss: 0.4250 - val_acc: 0.8796\n",
            "Epoch 18/20\n",
            "49/49 [==============================] - 1s 25ms/step - loss: 0.3930 - acc: 0.8958 - val_loss: 0.4243 - val_acc: 0.8793\n",
            "Epoch 19/20\n",
            "49/49 [==============================] - 1s 26ms/step - loss: 0.3904 - acc: 0.8969 - val_loss: 0.4215 - val_acc: 0.8809\n",
            "Epoch 20/20\n",
            "49/49 [==============================] - 1s 25ms/step - loss: 0.3864 - acc: 0.8990 - val_loss: 0.4195 - val_acc: 0.8805\n"
          ],
          "name": "stdout"
        }
      ]
    },
    {
      "cell_type": "code",
      "metadata": {
        "id": "S_cVegCY2X3d",
        "outputId": "cf338741-fd24-4428-eb9c-98e79ee2a333",
        "colab": {
          "base_uri": "https://localhost:8080/",
          "height": 280
        }
      },
      "source": [
        "l12_model_val_loss = l12_model_hist.history['val_loss']\n",
        "\n",
        "plt.plot(epochs, original_val_loss, 'b+', label='Original model')\n",
        "plt.plot(epochs, l12_model_val_loss, 'bo', label='Elasticnet-regularized model')\n",
        "plt.xlabel('Epochs')\n",
        "plt.ylabel('Validation loss')\n",
        "plt.legend()\n",
        "\n",
        "plt.show()"
      ],
      "execution_count": 18,
      "outputs": [
        {
          "output_type": "display_data",
          "data": {
            "image/png": "[encoded data removed]",
            "text/plain": [
              "<Figure size 432x288 with 1 Axes>"
            ]
          },
          "metadata": {
            "tags": [],
            "needs_background": "light"
          }
        }
      ]
    }
  ]
}