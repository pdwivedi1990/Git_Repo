{
 "cells": [
  {
   "cell_type": "code",
   "execution_count": 5,
   "metadata": {},
   "outputs": [
    {
     "name": "stdout",
     "output_type": "stream",
     "text": [
      "D:/IIIT/Research_Work/Image Dehazing/code/data/1000/hazy\\1 (1).bmp\n",
      "D:/IIIT/Research_Work/Image Dehazing/code/data/1000/hazy\\1 (10).bmp\n",
      "D:/IIIT/Research_Work/Image Dehazing/code/data/1000/hazy\\1 (11).bmp\n",
      "D:/IIIT/Research_Work/Image Dehazing/code/data/1000/hazy\\1 (12).bmp\n",
      "D:/IIIT/Research_Work/Image Dehazing/code/data/1000/hazy\\1 (13).bmp\n",
      "D:/IIIT/Research_Work/Image Dehazing/code/data/1000/hazy\\1 (14).bmp\n",
      "D:/IIIT/Research_Work/Image Dehazing/code/data/1000/hazy\\1 (15).bmp\n",
      "D:/IIIT/Research_Work/Image Dehazing/code/data/1000/hazy\\1 (16).bmp\n",
      "D:/IIIT/Research_Work/Image Dehazing/code/data/1000/hazy\\1 (17).bmp\n",
      "D:/IIIT/Research_Work/Image Dehazing/code/data/1000/hazy\\1 (18).bmp\n",
      "D:/IIIT/Research_Work/Image Dehazing/code/data/1000/hazy\\1 (19).bmp\n",
      "D:/IIIT/Research_Work/Image Dehazing/code/data/1000/hazy\\1 (2).bmp\n",
      "D:/IIIT/Research_Work/Image Dehazing/code/data/1000/hazy\\1 (20).bmp\n",
      "D:/IIIT/Research_Work/Image Dehazing/code/data/1000/hazy\\1 (21).bmp\n",
      "D:/IIIT/Research_Work/Image Dehazing/code/data/1000/hazy\\1 (22).bmp\n",
      "D:/IIIT/Research_Work/Image Dehazing/code/data/1000/hazy\\1 (23).bmp\n",
      "D:/IIIT/Research_Work/Image Dehazing/code/data/1000/hazy\\1 (3).bmp\n",
      "D:/IIIT/Research_Work/Image Dehazing/code/data/1000/hazy\\1 (4).bmp\n",
      "D:/IIIT/Research_Work/Image Dehazing/code/data/1000/hazy\\1 (5).bmp\n",
      "D:/IIIT/Research_Work/Image Dehazing/code/data/1000/hazy\\1 (6).bmp\n",
      "D:/IIIT/Research_Work/Image Dehazing/code/data/1000/hazy\\1 (7).bmp\n",
      "D:/IIIT/Research_Work/Image Dehazing/code/data/1000/hazy\\1 (8).bmp\n",
      "D:/IIIT/Research_Work/Image Dehazing/code/data/1000/hazy\\1 (9).bmp\n"
     ]
    }
   ],
   "source": [
    "from PIL import Image \n",
    "import os \n",
    "def main(): \n",
    "    # path of the folder containing the raw images \n",
    "    inPath =\"D:/IIIT/Research_Work/Image Dehazing/code/img/D-HAZY_DATASET/Middlebury_Hazy\"\n",
    "    # path of the folder that will contain the modified image \n",
    "    outPath =\"D:/IIIT/Research_Work/Image Dehazing/code/data/1000/hazy\"\n",
    "    for imagePath in os.listdir(inPath): \n",
    "        # imagePath contains name of the image \n",
    "        inputPath = os.path.join(inPath, imagePath) \n",
    "        # inputPath contains the full directory name \n",
    "        img = Image.open(inputPath) \n",
    "        fullOutPath = os.path.join(outPath, imagePath)      \n",
    "        size =img.size   # get the size of the input image\n",
    "        ratio = 0.36 # reduced the size to 90% of the input image\n",
    "        reduced_size = int(size[0] * ratio), int(size[1] * ratio)     \n",
    "        im_resized = img.resize(reduced_size, Image.ANTIALIAS)\n",
    "        im_resized.save(fullOutPath, \"PNG\")\n",
    "        print(fullOutPath) \n",
    "# Driver Function \n",
    "if __name__ == '__main__': \n",
    "    main()"
   ]
  },
  {
   "cell_type": "code",
   "execution_count": 6,
   "metadata": {},
   "outputs": [],
   "source": [
    "#Code to change from bmp to png format\n",
    "from PIL import Image\n",
    "import glob\n",
    "import os\n",
    "\n",
    "out_dir = 'D:/IIIT/Research_Work/Image Dehazing/code/data/1000/hazy/op'\n",
    "cnt = 0\n",
    "for img in glob.glob('D:/IIIT/Research_Work/Image Dehazing/code/data/1000/hazy/*.bmp'):\n",
    "    Image.open(img).save(os.path.join(out_dir, str(cnt) + '.png'))\n",
    "    cnt += 1"
   ]
  }
 ],
 "metadata": {
  "kernelspec": {
   "display_name": "Python 3",
   "language": "python",
   "name": "python3"
  },
  "language_info": {
   "codemirror_mode": {
    "name": "ipython",
    "version": 3
   },
   "file_extension": ".py",
   "mimetype": "text/x-python",
   "name": "python",
   "nbconvert_exporter": "python",
   "pygments_lexer": "ipython3",
   "version": "3.6.10"
  }
 },
 "nbformat": 4,
 "nbformat_minor": 4
}
